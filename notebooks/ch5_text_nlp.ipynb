{
  "nbformat": 4,
  "nbformat_minor": 0,
  "metadata": {
    "colab": {
      "name": "ch5_text_nlp",
      "provenance": []
    },
    "kernelspec": {
      "name": "python3",
      "display_name": "Python 3"
    },
    "language_info": {
      "name": "python"
    }
  },
  "cells": [
    {
      "cell_type": "code",
      "metadata": {
        "id": "H-df9vZWT_YQ"
      },
      "source": [
        "sample_text = ['This is a chapter on text processing using tf', 'Text processing requires careful handling']\n",
        "\n",
        "from tensorflow.keras.preprocessing.text import Tokenizer\n",
        "\n",
        "tokenizer = Tokenizer()\n",
        "\n",
        "tokenizer.fit_on_texts(sample_text)"
      ],
      "execution_count": 1,
      "outputs": []
    },
    {
      "cell_type": "code",
      "metadata": {
        "colab": {
          "base_uri": "https://localhost:8080/"
        },
        "id": "LBar8_i5Ix8T",
        "outputId": "28d7c5db-8d08-4c9f-b97e-faa2369dc549"
      },
      "source": [
        "word_dict = tokenizer.word_index\n",
        "\n",
        "print(word_dict)"
      ],
      "execution_count": 2,
      "outputs": [
        {
          "output_type": "stream",
          "text": [
            "{'text': 1, 'processing': 2, 'this': 3, 'is': 4, 'a': 5, 'chapter': 6, 'on': 7, 'using': 8, 'tf': 9, 'requires': 10, 'careful': 11, 'handling': 12}\n"
          ],
          "name": "stdout"
        }
      ]
    },
    {
      "cell_type": "code",
      "metadata": {
        "colab": {
          "base_uri": "https://localhost:8080/"
        },
        "id": "uFRcSJygI3pP",
        "outputId": "d52dbd87-4ddf-4979-dfb2-53304b7f03c4"
      },
      "source": [
        "seq = tokenizer.texts_to_sequences(sample_text)\n",
        "print(seq)"
      ],
      "execution_count": 6,
      "outputs": [
        {
          "output_type": "stream",
          "text": [
            "[[3, 4, 5, 6, 7, 1, 2, 8, 9], [1, 2, 10, 11, 12]]\n"
          ],
          "name": "stdout"
        }
      ]
    },
    {
      "cell_type": "code",
      "metadata": {
        "colab": {
          "base_uri": "https://localhost:8080/"
        },
        "id": "Ugj1Kb4dJC8R",
        "outputId": "7529e557-8fc6-42b9-b85d-2d74ec5fe4aa"
      },
      "source": [
        "from tensorflow.keras.preprocessing.sequence import pad_sequences\n",
        "padded_seq = pad_sequences(seq, padding='post')\n",
        "\n",
        "print(padded_seq)"
      ],
      "execution_count": 7,
      "outputs": [
        {
          "output_type": "stream",
          "text": [
            "[[ 3  4  5  6  7  1  2  8  9]\n",
            " [ 1  2 10 11 12  0  0  0  0]]\n"
          ],
          "name": "stdout"
        }
      ]
    }
  ]
}