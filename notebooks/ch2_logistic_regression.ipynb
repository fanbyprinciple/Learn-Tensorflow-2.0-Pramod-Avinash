{
  "nbformat": 4,
  "nbformat_minor": 0,
  "metadata": {
    "colab": {
      "name": "ch2 logistic regression",
      "provenance": []
    },
    "kernelspec": {
      "name": "python3",
      "display_name": "Python 3"
    },
    "language_info": {
      "name": "python"
    }
  },
  "cells": [
    {
      "cell_type": "code",
      "metadata": {
        "colab": {
          "base_uri": "https://localhost:8080/"
        },
        "id": "6DQYXzS7M8Mf",
        "outputId": "b068bb66-4f71-4b68-fb7c-e2a07b6e6bc0"
      },
      "source": [
        "from __future__ import absolute_import, division, print_function, unicode_literals\n",
        "import pandas as pd\n",
        "import seaborn as sb\n",
        "import tensorflow as tf\n",
        "from tensorflow import keras\n",
        "from tensorflow.estimator import LinearClassifier\n",
        "from sklearn.model_selection import train_test_split\n",
        "from sklearn.metrics import accuracy_score, precision_score, recall_score\n",
        "print(tf.__version__)"
      ],
      "execution_count": 2,
      "outputs": [
        {
          "output_type": "stream",
          "text": [
            "2.4.1\n"
          ],
          "name": "stdout"
        }
      ]
    },
    {
      "cell_type": "code",
      "metadata": {
        "id": "IlSqEkL8Niky"
      },
      "source": [
        "col_names = ['SepalLength', 'SepalWidth', 'PetalLength', 'PetalWidth', 'Species']\n",
        "target_dimensions = ['Setosa', 'Versicolor', 'Virginica']"
      ],
      "execution_count": 3,
      "outputs": []
    },
    {
      "cell_type": "code",
      "metadata": {
        "colab": {
          "base_uri": "https://localhost:8080/"
        },
        "id": "JHvC9r9bODAV",
        "outputId": "6c7eda61-0bc9-456a-f85a-592c9922fadc"
      },
      "source": [
        "training_data_path = tf.keras.utils.get_file(\"iris_training.csv\", \"https://storage.googleapis.com/download.tensorflow.org/data/iris_training.csv\")"
      ],
      "execution_count": 4,
      "outputs": [
        {
          "output_type": "stream",
          "text": [
            "Downloading data from https://storage.googleapis.com/download.tensorflow.org/data/iris_training.csv\n",
            "\r8192/2194 [================================================================================================================] - 0s 0us/step\n"
          ],
          "name": "stdout"
        }
      ]
    },
    {
      "cell_type": "code",
      "metadata": {
        "colab": {
          "base_uri": "https://localhost:8080/"
        },
        "id": "Ai0ph3fUOETK",
        "outputId": "5ce87490-a122-4816-9599-bdbe669eb348"
      },
      "source": [
        "test_data_path = tf.keras.utils.get_file(\"iris_test.csv\", \"https://storage.googleapis.com/download.tensorflow.org/data/iris_test.csv\")"
      ],
      "execution_count": 5,
      "outputs": [
        {
          "output_type": "stream",
          "text": [
            "Downloading data from https://storage.googleapis.com/download.tensorflow.org/data/iris_test.csv\n",
            "8192/573 [============================================================================================================================================================================================================================================================================================================================================================================================================================================] - 0s 0us/step\n"
          ],
          "name": "stdout"
        }
      ]
    },
    {
      "cell_type": "code",
      "metadata": {
        "id": "DZo50Tk4OU_6"
      },
      "source": [
        "training = pd.read_csv(training_data_path, names=col_names, header=0)\n",
        "\n",
        "training = training[training['Species']>=1]\n",
        "training['Species'] = training['Species'].replace([1,2],[0,1])\n",
        "test = pd.read_csv(test_data_path,names=col_names,header=0)"
      ],
      "execution_count": 6,
      "outputs": []
    },
    {
      "cell_type": "code",
      "metadata": {
        "colab": {
          "base_uri": "https://localhost:8080/",
          "height": 282
        },
        "id": "Oxcj9RalOuq2",
        "outputId": "7559be23-32b2-45c4-eb33-aff762edd147"
      },
      "source": [
        "test = test[test['Species']>=1]\n",
        "test['Species'] = test['Species'].replace([1,2], [0,1])\n",
        "\n",
        "training.reset_index(drop=True, inplace=True)\n",
        "test.reset_index(drop=True, inplace=True)\n",
        "\n",
        "iris_dataset = pd.concat([training, test], axis=0)\n",
        "\n",
        "iris_dataset.describe()"
      ],
      "execution_count": 7,
      "outputs": [
        {
          "output_type": "execute_result",
          "data": {
            "text/html": [
              "<div>\n",
              "<style scoped>\n",
              "    .dataframe tbody tr th:only-of-type {\n",
              "        vertical-align: middle;\n",
              "    }\n",
              "\n",
              "    .dataframe tbody tr th {\n",
              "        vertical-align: top;\n",
              "    }\n",
              "\n",
              "    .dataframe thead th {\n",
              "        text-align: right;\n",
              "    }\n",
              "</style>\n",
              "<table border=\"1\" class=\"dataframe\">\n",
              "  <thead>\n",
              "    <tr style=\"text-align: right;\">\n",
              "      <th></th>\n",
              "      <th>SepalLength</th>\n",
              "      <th>SepalWidth</th>\n",
              "      <th>PetalLength</th>\n",
              "      <th>PetalWidth</th>\n",
              "      <th>Species</th>\n",
              "    </tr>\n",
              "  </thead>\n",
              "  <tbody>\n",
              "    <tr>\n",
              "      <th>count</th>\n",
              "      <td>100.000000</td>\n",
              "      <td>100.000000</td>\n",
              "      <td>100.000000</td>\n",
              "      <td>100.000000</td>\n",
              "      <td>100.000000</td>\n",
              "    </tr>\n",
              "    <tr>\n",
              "      <th>mean</th>\n",
              "      <td>6.262000</td>\n",
              "      <td>2.872000</td>\n",
              "      <td>4.906000</td>\n",
              "      <td>1.676000</td>\n",
              "      <td>0.500000</td>\n",
              "    </tr>\n",
              "    <tr>\n",
              "      <th>std</th>\n",
              "      <td>0.662834</td>\n",
              "      <td>0.332751</td>\n",
              "      <td>0.825578</td>\n",
              "      <td>0.424769</td>\n",
              "      <td>0.502519</td>\n",
              "    </tr>\n",
              "    <tr>\n",
              "      <th>min</th>\n",
              "      <td>4.900000</td>\n",
              "      <td>2.000000</td>\n",
              "      <td>3.000000</td>\n",
              "      <td>1.000000</td>\n",
              "      <td>0.000000</td>\n",
              "    </tr>\n",
              "    <tr>\n",
              "      <th>25%</th>\n",
              "      <td>5.800000</td>\n",
              "      <td>2.700000</td>\n",
              "      <td>4.375000</td>\n",
              "      <td>1.300000</td>\n",
              "      <td>0.000000</td>\n",
              "    </tr>\n",
              "    <tr>\n",
              "      <th>50%</th>\n",
              "      <td>6.300000</td>\n",
              "      <td>2.900000</td>\n",
              "      <td>4.900000</td>\n",
              "      <td>1.600000</td>\n",
              "      <td>0.500000</td>\n",
              "    </tr>\n",
              "    <tr>\n",
              "      <th>75%</th>\n",
              "      <td>6.700000</td>\n",
              "      <td>3.025000</td>\n",
              "      <td>5.525000</td>\n",
              "      <td>2.000000</td>\n",
              "      <td>1.000000</td>\n",
              "    </tr>\n",
              "    <tr>\n",
              "      <th>max</th>\n",
              "      <td>7.900000</td>\n",
              "      <td>3.800000</td>\n",
              "      <td>6.900000</td>\n",
              "      <td>2.500000</td>\n",
              "      <td>1.000000</td>\n",
              "    </tr>\n",
              "  </tbody>\n",
              "</table>\n",
              "</div>"
            ],
            "text/plain": [
              "       SepalLength  SepalWidth  PetalLength  PetalWidth     Species\n",
              "count   100.000000  100.000000   100.000000  100.000000  100.000000\n",
              "mean      6.262000    2.872000     4.906000    1.676000    0.500000\n",
              "std       0.662834    0.332751     0.825578    0.424769    0.502519\n",
              "min       4.900000    2.000000     3.000000    1.000000    0.000000\n",
              "25%       5.800000    2.700000     4.375000    1.300000    0.000000\n",
              "50%       6.300000    2.900000     4.900000    1.600000    0.500000\n",
              "75%       6.700000    3.025000     5.525000    2.000000    1.000000\n",
              "max       7.900000    3.800000     6.900000    2.500000    1.000000"
            ]
          },
          "metadata": {
            "tags": []
          },
          "execution_count": 7
        }
      ]
    },
    {
      "cell_type": "code",
      "metadata": {
        "colab": {
          "base_uri": "https://localhost:8080/",
          "height": 766
        },
        "id": "xEm6YhXgPWux",
        "outputId": "b81c5563-d867-4cfc-c3a0-1efd80d2eec4"
      },
      "source": [
        "sb.pairplot(iris_dataset, diag_kind='kde')"
      ],
      "execution_count": 8,
      "outputs": [
        {
          "output_type": "execute_result",
          "data": {
            "text/plain": [
              "<seaborn.axisgrid.PairGrid at 0x7f5f71278a50>"
            ]
          },
          "metadata": {
            "tags": []
          },
          "execution_count": 8
        },
        {
          "output_type": "display_data",
          "data": {
            "image/png": "[encoded data removed]",
            "text/plain": [
              "<Figure size 900x900 with 30 Axes>"
            ]
          },
          "metadata": {
            "tags": [],
            "needs_background": "light"
          }
        }
      ]
    },
    {
      "cell_type": "code",
      "metadata": {
        "colab": {
          "base_uri": "https://localhost:8080/",
          "height": 141
        },
        "id": "sfSSP1MfPhsj",
        "outputId": "02e1f23d-1505-4c94-f455-00f60c6b2ad2"
      },
      "source": [
        "correlation_data = iris_dataset.corr()\n",
        "correlation_data.style.background_gradient(cmap='coolwarm', axis=None)"
      ],
      "execution_count": 9,
      "outputs": [
        {
          "output_type": "execute_result",
          "data": {
            "text/html": [
              "<style  type=\"text/css\" >\n",
              "#T_e0da33c8_9f2a_11eb_b4b3_0242ac1c0002row0_col0,#T_e0da33c8_9f2a_11eb_b4b3_0242ac1c0002row1_col1,#T_e0da33c8_9f2a_11eb_b4b3_0242ac1c0002row2_col2,#T_e0da33c8_9f2a_11eb_b4b3_0242ac1c0002row3_col3,#T_e0da33c8_9f2a_11eb_b4b3_0242ac1c0002row4_col4{\n",
              "            background-color:  #b40426;\n",
              "            color:  #f1f1f1;\n",
              "        }#T_e0da33c8_9f2a_11eb_b4b3_0242ac1c0002row0_col1,#T_e0da33c8_9f2a_11eb_b4b3_0242ac1c0002row1_col0{\n",
              "            background-color:  #b1cbfc;\n",
              "            color:  #000000;\n",
              "        }#T_e0da33c8_9f2a_11eb_b4b3_0242ac1c0002row0_col2,#T_e0da33c8_9f2a_11eb_b4b3_0242ac1c0002row2_col0,#T_e0da33c8_9f2a_11eb_b4b3_0242ac1c0002row3_col4,#T_e0da33c8_9f2a_11eb_b4b3_0242ac1c0002row4_col3{\n",
              "            background-color:  #f4987a;\n",
              "            color:  #000000;\n",
              "        }#T_e0da33c8_9f2a_11eb_b4b3_0242ac1c0002row0_col3,#T_e0da33c8_9f2a_11eb_b4b3_0242ac1c0002row3_col0{\n",
              "            background-color:  #c4d5f3;\n",
              "            color:  #000000;\n",
              "        }#T_e0da33c8_9f2a_11eb_b4b3_0242ac1c0002row0_col4,#T_e0da33c8_9f2a_11eb_b4b3_0242ac1c0002row4_col0{\n",
              "            background-color:  #93b5fe;\n",
              "            color:  #000000;\n",
              "        }#T_e0da33c8_9f2a_11eb_b4b3_0242ac1c0002row1_col2,#T_e0da33c8_9f2a_11eb_b4b3_0242ac1c0002row2_col1{\n",
              "            background-color:  #a1c0ff;\n",
              "            color:  #000000;\n",
              "        }#T_e0da33c8_9f2a_11eb_b4b3_0242ac1c0002row1_col3,#T_e0da33c8_9f2a_11eb_b4b3_0242ac1c0002row3_col1{\n",
              "            background-color:  #b7cff9;\n",
              "            color:  #000000;\n",
              "        }#T_e0da33c8_9f2a_11eb_b4b3_0242ac1c0002row1_col4,#T_e0da33c8_9f2a_11eb_b4b3_0242ac1c0002row4_col1{\n",
              "            background-color:  #3b4cc0;\n",
              "            color:  #f1f1f1;\n",
              "        }#T_e0da33c8_9f2a_11eb_b4b3_0242ac1c0002row2_col3,#T_e0da33c8_9f2a_11eb_b4b3_0242ac1c0002row3_col2{\n",
              "            background-color:  #f59c7d;\n",
              "            color:  #000000;\n",
              "        }#T_e0da33c8_9f2a_11eb_b4b3_0242ac1c0002row2_col4,#T_e0da33c8_9f2a_11eb_b4b3_0242ac1c0002row4_col2{\n",
              "            background-color:  #f7b093;\n",
              "            color:  #000000;\n",
              "        }</style><table id=\"T_e0da33c8_9f2a_11eb_b4b3_0242ac1c0002\" ><thead>    <tr>        <th class=\"blank level0\" ></th>        <th class=\"col_heading level0 col0\" >SepalLength</th>        <th class=\"col_heading level0 col1\" >SepalWidth</th>        <th class=\"col_heading level0 col2\" >PetalLength</th>        <th class=\"col_heading level0 col3\" >PetalWidth</th>        <th class=\"col_heading level0 col4\" >Species</th>    </tr></thead><tbody>\n",
              "                <tr>\n",
              "                        <th id=\"T_e0da33c8_9f2a_11eb_b4b3_0242ac1c0002level0_row0\" class=\"row_heading level0 row0\" >SepalLength</th>\n",
              "                        <td id=\"T_e0da33c8_9f2a_11eb_b4b3_0242ac1c0002row0_col0\" class=\"data row0 col0\" >1.000000</td>\n",
              "                        <td id=\"T_e0da33c8_9f2a_11eb_b4b3_0242ac1c0002row0_col1\" class=\"data row0 col1\" >0.553855</td>\n",
              "                        <td id=\"T_e0da33c8_9f2a_11eb_b4b3_0242ac1c0002row0_col2\" class=\"data row0 col2\" >0.828479</td>\n",
              "                        <td id=\"T_e0da33c8_9f2a_11eb_b4b3_0242ac1c0002row0_col3\" class=\"data row0 col3\" >0.593709</td>\n",
              "                        <td id=\"T_e0da33c8_9f2a_11eb_b4b3_0242ac1c0002row0_col4\" class=\"data row0 col4\" >0.494305</td>\n",
              "            </tr>\n",
              "            <tr>\n",
              "                        <th id=\"T_e0da33c8_9f2a_11eb_b4b3_0242ac1c0002level0_row1\" class=\"row_heading level0 row1\" >SepalWidth</th>\n",
              "                        <td id=\"T_e0da33c8_9f2a_11eb_b4b3_0242ac1c0002row1_col0\" class=\"data row1 col0\" >0.553855</td>\n",
              "                        <td id=\"T_e0da33c8_9f2a_11eb_b4b3_0242ac1c0002row1_col1\" class=\"data row1 col1\" >1.000000</td>\n",
              "                        <td id=\"T_e0da33c8_9f2a_11eb_b4b3_0242ac1c0002row1_col2\" class=\"data row1 col2\" >0.519802</td>\n",
              "                        <td id=\"T_e0da33c8_9f2a_11eb_b4b3_0242ac1c0002row1_col3\" class=\"data row1 col3\" >0.566203</td>\n",
              "                        <td id=\"T_e0da33c8_9f2a_11eb_b4b3_0242ac1c0002row1_col4\" class=\"data row1 col4\" >0.308080</td>\n",
              "            </tr>\n",
              "            <tr>\n",
              "                        <th id=\"T_e0da33c8_9f2a_11eb_b4b3_0242ac1c0002level0_row2\" class=\"row_heading level0 row2\" >PetalLength</th>\n",
              "                        <td id=\"T_e0da33c8_9f2a_11eb_b4b3_0242ac1c0002row2_col0\" class=\"data row2 col0\" >0.828479</td>\n",
              "                        <td id=\"T_e0da33c8_9f2a_11eb_b4b3_0242ac1c0002row2_col1\" class=\"data row2 col1\" >0.519802</td>\n",
              "                        <td id=\"T_e0da33c8_9f2a_11eb_b4b3_0242ac1c0002row2_col2\" class=\"data row2 col2\" >1.000000</td>\n",
              "                        <td id=\"T_e0da33c8_9f2a_11eb_b4b3_0242ac1c0002row2_col3\" class=\"data row2 col3\" >0.823348</td>\n",
              "                        <td id=\"T_e0da33c8_9f2a_11eb_b4b3_0242ac1c0002row2_col4\" class=\"data row2 col4\" >0.786424</td>\n",
              "            </tr>\n",
              "            <tr>\n",
              "                        <th id=\"T_e0da33c8_9f2a_11eb_b4b3_0242ac1c0002level0_row3\" class=\"row_heading level0 row3\" >PetalWidth</th>\n",
              "                        <td id=\"T_e0da33c8_9f2a_11eb_b4b3_0242ac1c0002row3_col0\" class=\"data row3 col0\" >0.593709</td>\n",
              "                        <td id=\"T_e0da33c8_9f2a_11eb_b4b3_0242ac1c0002row3_col1\" class=\"data row3 col1\" >0.566203</td>\n",
              "                        <td id=\"T_e0da33c8_9f2a_11eb_b4b3_0242ac1c0002row3_col2\" class=\"data row3 col2\" >0.823348</td>\n",
              "                        <td id=\"T_e0da33c8_9f2a_11eb_b4b3_0242ac1c0002row3_col3\" class=\"data row3 col3\" >1.000000</td>\n",
              "                        <td id=\"T_e0da33c8_9f2a_11eb_b4b3_0242ac1c0002row3_col4\" class=\"data row3 col4\" >0.828129</td>\n",
              "            </tr>\n",
              "            <tr>\n",
              "                        <th id=\"T_e0da33c8_9f2a_11eb_b4b3_0242ac1c0002level0_row4\" class=\"row_heading level0 row4\" >Species</th>\n",
              "                        <td id=\"T_e0da33c8_9f2a_11eb_b4b3_0242ac1c0002row4_col0\" class=\"data row4 col0\" >0.494305</td>\n",
              "                        <td id=\"T_e0da33c8_9f2a_11eb_b4b3_0242ac1c0002row4_col1\" class=\"data row4 col1\" >0.308080</td>\n",
              "                        <td id=\"T_e0da33c8_9f2a_11eb_b4b3_0242ac1c0002row4_col2\" class=\"data row4 col2\" >0.786424</td>\n",
              "                        <td id=\"T_e0da33c8_9f2a_11eb_b4b3_0242ac1c0002row4_col3\" class=\"data row4 col3\" >0.828129</td>\n",
              "                        <td id=\"T_e0da33c8_9f2a_11eb_b4b3_0242ac1c0002row4_col4\" class=\"data row4 col4\" >1.000000</td>\n",
              "            </tr>\n",
              "    </tbody></table>"
            ],
            "text/plain": [
              "<pandas.io.formats.style.Styler at 0x7f5f650440d0>"
            ]
          },
          "metadata": {
            "tags": []
          },
          "execution_count": 9
        }
      ]
    },
    {
      "cell_type": "code",
      "metadata": {
        "colab": {
          "base_uri": "https://localhost:8080/",
          "height": 194
        },
        "id": "fvwycZucPvNI",
        "outputId": "f668db48-a794-415c-db9d-7a77a53d0be6"
      },
      "source": [
        "stats = iris_dataset.describe()\n",
        "iris_stats = stats.transpose()\n",
        "iris_stats"
      ],
      "execution_count": 10,
      "outputs": [
        {
          "output_type": "execute_result",
          "data": {
            "text/html": [
              "<div>\n",
              "<style scoped>\n",
              "    .dataframe tbody tr th:only-of-type {\n",
              "        vertical-align: middle;\n",
              "    }\n",
              "\n",
              "    .dataframe tbody tr th {\n",
              "        vertical-align: top;\n",
              "    }\n",
              "\n",
              "    .dataframe thead th {\n",
              "        text-align: right;\n",
              "    }\n",
              "</style>\n",
              "<table border=\"1\" class=\"dataframe\">\n",
              "  <thead>\n",
              "    <tr style=\"text-align: right;\">\n",
              "      <th></th>\n",
              "      <th>count</th>\n",
              "      <th>mean</th>\n",
              "      <th>std</th>\n",
              "      <th>min</th>\n",
              "      <th>25%</th>\n",
              "      <th>50%</th>\n",
              "      <th>75%</th>\n",
              "      <th>max</th>\n",
              "    </tr>\n",
              "  </thead>\n",
              "  <tbody>\n",
              "    <tr>\n",
              "      <th>SepalLength</th>\n",
              "      <td>100.0</td>\n",
              "      <td>6.262</td>\n",
              "      <td>0.662834</td>\n",
              "      <td>4.9</td>\n",
              "      <td>5.800</td>\n",
              "      <td>6.3</td>\n",
              "      <td>6.700</td>\n",
              "      <td>7.9</td>\n",
              "    </tr>\n",
              "    <tr>\n",
              "      <th>SepalWidth</th>\n",
              "      <td>100.0</td>\n",
              "      <td>2.872</td>\n",
              "      <td>0.332751</td>\n",
              "      <td>2.0</td>\n",
              "      <td>2.700</td>\n",
              "      <td>2.9</td>\n",
              "      <td>3.025</td>\n",
              "      <td>3.8</td>\n",
              "    </tr>\n",
              "    <tr>\n",
              "      <th>PetalLength</th>\n",
              "      <td>100.0</td>\n",
              "      <td>4.906</td>\n",
              "      <td>0.825578</td>\n",
              "      <td>3.0</td>\n",
              "      <td>4.375</td>\n",
              "      <td>4.9</td>\n",
              "      <td>5.525</td>\n",
              "      <td>6.9</td>\n",
              "    </tr>\n",
              "    <tr>\n",
              "      <th>PetalWidth</th>\n",
              "      <td>100.0</td>\n",
              "      <td>1.676</td>\n",
              "      <td>0.424769</td>\n",
              "      <td>1.0</td>\n",
              "      <td>1.300</td>\n",
              "      <td>1.6</td>\n",
              "      <td>2.000</td>\n",
              "      <td>2.5</td>\n",
              "    </tr>\n",
              "    <tr>\n",
              "      <th>Species</th>\n",
              "      <td>100.0</td>\n",
              "      <td>0.500</td>\n",
              "      <td>0.502519</td>\n",
              "      <td>0.0</td>\n",
              "      <td>0.000</td>\n",
              "      <td>0.5</td>\n",
              "      <td>1.000</td>\n",
              "      <td>1.0</td>\n",
              "    </tr>\n",
              "  </tbody>\n",
              "</table>\n",
              "</div>"
            ],
            "text/plain": [
              "             count   mean       std  min    25%  50%    75%  max\n",
              "SepalLength  100.0  6.262  0.662834  4.9  5.800  6.3  6.700  7.9\n",
              "SepalWidth   100.0  2.872  0.332751  2.0  2.700  2.9  3.025  3.8\n",
              "PetalLength  100.0  4.906  0.825578  3.0  4.375  4.9  5.525  6.9\n",
              "PetalWidth   100.0  1.676  0.424769  1.0  1.300  1.6  2.000  2.5\n",
              "Species      100.0  0.500  0.502519  0.0  0.000  0.5  1.000  1.0"
            ]
          },
          "metadata": {
            "tags": []
          },
          "execution_count": 10
        }
      ]
    },
    {
      "cell_type": "code",
      "metadata": {
        "id": "CNtLXp9UP4X_"
      },
      "source": [
        "X_data = iris_dataset[[i for i in iris_dataset.columns if i not in ['Species']]]\n",
        "Y_data = iris_dataset[['Species']]"
      ],
      "execution_count": 11,
      "outputs": []
    },
    {
      "cell_type": "code",
      "metadata": {
        "id": "crJr9UxOTUqn"
      },
      "source": [
        "training_features,test_features, training_labels,test_labels = train_test_split(X_data, Y_data,test_size=0.2)"
      ],
      "execution_count": 12,
      "outputs": []
    },
    {
      "cell_type": "code",
      "metadata": {
        "colab": {
          "base_uri": "https://localhost:8080/"
        },
        "id": "6dKrVC1rT4VO",
        "outputId": "636ee922-cb56-40c9-b4af-baef5834c7c7"
      },
      "source": [
        "print(test_features.shape, training_features.shape)"
      ],
      "execution_count": 13,
      "outputs": [
        {
          "output_type": "stream",
          "text": [
            "(20, 4) (80, 4)\n"
          ],
          "name": "stdout"
        }
      ]
    },
    {
      "cell_type": "code",
      "metadata": {
        "id": "hVE-WqKBUbha"
      },
      "source": [
        "#normalize the data\n",
        "def norm(x):\n",
        "  stats = x.describe()\n",
        "  stats = stats.transpose()\n",
        "  return (x-stats['mean']/stats['std'])"
      ],
      "execution_count": 14,
      "outputs": []
    },
    {
      "cell_type": "code",
      "metadata": {
        "id": "-WQVeLbVU5ZS"
      },
      "source": [
        "normed_train_features = norm(training_features)\n",
        "normed_test_features = norm(test_features)"
      ],
      "execution_count": 15,
      "outputs": []
    },
    {
      "cell_type": "code",
      "metadata": {
        "id": "utLPKyX4VUJQ"
      },
      "source": [
        "def feed_input(features_dataframe, target_dataframe, num_of_epochs=10, shuffle=True, batch_size=32):\n",
        "  def input_feed_function():\n",
        "    dataset = tf.data.Dataset.from_tensor_slices((dict(features_dataframe), target_dataframe))\n",
        "    if shuffle:\n",
        "      dataset = dataset.shuffle(2000)\n",
        "    dataset = dataset.batch(batch_size).repeat(num_of_epochs)\n",
        "    return dataset\n",
        "  return input_feed_function"
      ],
      "execution_count": 1,
      "outputs": []
    },
    {
      "cell_type": "code",
      "metadata": {
        "id": "i8XwKGvOWuqr"
      },
      "source": [
        "train_feed_input = feed_input(normed_train_features, training_labels)"
      ],
      "execution_count": 16,
      "outputs": []
    },
    {
      "cell_type": "code",
      "metadata": {
        "id": "Xm1YiQo7W7f9"
      },
      "source": [
        "train_feed_input_testing = feed_input(normed_train_features,training_features, num_of_epochs=1, shuffle=False)"
      ],
      "execution_count": 17,
      "outputs": []
    },
    {
      "cell_type": "code",
      "metadata": {
        "id": "_ifeKfs0XShz"
      },
      "source": [
        "test_feed_input = feed_input(normed_test_features, test_labels, num_of_epochs=1, shuffle=False)"
      ],
      "execution_count": 18,
      "outputs": []
    },
    {
      "cell_type": "code",
      "metadata": {
        "id": "tWyEsd8sXfRS"
      },
      "source": [
        "features_columns_numeric = [tf.feature_column.numeric_column(m) for m in training_features.columns]"
      ],
      "execution_count": 19,
      "outputs": []
    },
    {
      "cell_type": "code",
      "metadata": {
        "colab": {
          "base_uri": "https://localhost:8080/"
        },
        "id": "k9I9gpufYChQ",
        "outputId": "5af07baa-e6a6-4915-c06e-063ca3831839"
      },
      "source": [
        "logistic_model = LinearClassifier(feature_columns = features_columns_numeric)"
      ],
      "execution_count": 20,
      "outputs": [
        {
          "output_type": "stream",
          "text": [
            "INFO:tensorflow:Using default config.\n",
            "WARNING:tensorflow:Using temporary folder as model directory: /tmp/tmpqi5_9irk\n",
            "INFO:tensorflow:Using config: {'_model_dir': '/tmp/tmpqi5_9irk', '_tf_random_seed': None, '_save_summary_steps': 100, '_save_checkpoints_steps': None, '_save_checkpoints_secs': 600, '_session_config': allow_soft_placement: true\n",
            "graph_options {\n",
            "  rewrite_options {\n",
            "    meta_optimizer_iterations: ONE\n",
            "  }\n",
            "}\n",
            ", '_keep_checkpoint_max': 5, '_keep_checkpoint_every_n_hours': 10000, '_log_step_count_steps': 100, '_train_distribute': None, '_device_fn': None, '_protocol': None, '_eval_distribute': None, '_experimental_distribute': None, '_experimental_max_worker_delay_secs': None, '_session_creation_timeout_secs': 7200, '_checkpoint_save_graph_def': True, '_service': None, '_cluster_spec': ClusterSpec({}), '_task_type': 'worker', '_task_id': 0, '_global_id_in_cluster': 0, '_master': '', '_evaluation_master': '', '_is_chief': True, '_num_ps_replicas': 0, '_num_worker_replicas': 1}\n"
          ],
          "name": "stdout"
        }
      ]
    },
    {
      "cell_type": "code",
      "metadata": {
        "colab": {
          "base_uri": "https://localhost:8080/"
        },
        "id": "X0sIv-1HYSBo",
        "outputId": "6c8c73c4-065c-4196-f53f-c872c8614f59"
      },
      "source": [
        "logistic_model.train(train_feed_input)"
      ],
      "execution_count": 21,
      "outputs": [
        {
          "output_type": "stream",
          "text": [
            "WARNING:tensorflow:From /usr/local/lib/python3.7/dist-packages/tensorflow/python/training/training_util.py:236: Variable.initialized_value (from tensorflow.python.ops.variables) is deprecated and will be removed in a future version.\n",
            "Instructions for updating:\n",
            "Use Variable.read_value. Variables in 2.X are initialized automatically both in eager and graph (inside tf.defun) contexts.\n",
            "INFO:tensorflow:Calling model_fn.\n"
          ],
          "name": "stdout"
        },
        {
          "output_type": "stream",
          "text": [
            "/usr/local/lib/python3.7/dist-packages/tensorflow/python/keras/engine/base_layer_v1.py:1727: UserWarning: `layer.add_variable` is deprecated and will be removed in a future version. Please use `layer.add_weight` method instead.\n",
            "  warnings.warn('`layer.add_variable` is deprecated and '\n"
          ],
          "name": "stderr"
        },
        {
          "output_type": "stream",
          "text": [
            "WARNING:tensorflow:From /usr/local/lib/python3.7/dist-packages/tensorflow/python/keras/optimizer_v2/ftrl.py:134: calling Constant.__init__ (from tensorflow.python.ops.init_ops) with dtype is deprecated and will be removed in a future version.\n",
            "Instructions for updating:\n",
            "Call initializer instance with the dtype argument instead of passing it to the constructor\n",
            "INFO:tensorflow:Done calling model_fn.\n",
            "INFO:tensorflow:Create CheckpointSaverHook.\n",
            "INFO:tensorflow:Graph was finalized.\n",
            "INFO:tensorflow:Running local_init_op.\n",
            "INFO:tensorflow:Done running local_init_op.\n",
            "INFO:tensorflow:Calling checkpoint listeners before saving checkpoint 0...\n",
            "INFO:tensorflow:Saving checkpoints for 0 into /tmp/tmpqi5_9irk/model.ckpt.\n",
            "INFO:tensorflow:Calling checkpoint listeners after saving checkpoint 0...\n",
            "INFO:tensorflow:loss = 0.6931472, step = 0\n",
            "INFO:tensorflow:Calling checkpoint listeners before saving checkpoint 30...\n",
            "INFO:tensorflow:Saving checkpoints for 30 into /tmp/tmpqi5_9irk/model.ckpt.\n",
            "INFO:tensorflow:Calling checkpoint listeners after saving checkpoint 30...\n",
            "INFO:tensorflow:Loss for final step: 0.3616375.\n"
          ],
          "name": "stdout"
        },
        {
          "output_type": "execute_result",
          "data": {
            "text/plain": [
              "<tensorflow_estimator.python.estimator.canned.linear.LinearClassifierV2 at 0x7f5f62e3f950>"
            ]
          },
          "metadata": {
            "tags": []
          },
          "execution_count": 21
        }
      ]
    },
    {
      "cell_type": "code",
      "metadata": {
        "id": "r4V-8uSbYKwJ"
      },
      "source": [
        "train_predictions = logistic_model.predict(train_feed_input_testing)\n",
        "test_predictions = logistic_model.predict(test_feed_input)"
      ],
      "execution_count": 22,
      "outputs": []
    },
    {
      "cell_type": "code",
      "metadata": {
        "colab": {
          "base_uri": "https://localhost:8080/"
        },
        "id": "skjIMjDY0myu",
        "outputId": "29e217fb-4b4a-46a1-d208-e28bfdd73ba2"
      },
      "source": [
        "train_predictions_series = pd.Series([p['classes'][0].decode(\"utf-8\")   for p in train_predictions])\n",
        "test_predictions_series = pd.Series([p['classes'][0].decode(\"utf-8\")   for p in test_predictions])"
      ],
      "execution_count": 23,
      "outputs": [
        {
          "output_type": "stream",
          "text": [
            "INFO:tensorflow:Calling model_fn.\n",
            "INFO:tensorflow:Done calling model_fn.\n"
          ],
          "name": "stdout"
        },
        {
          "output_type": "stream",
          "text": [
            "/usr/local/lib/python3.7/dist-packages/tensorflow/python/keras/engine/base_layer_v1.py:1727: UserWarning: `layer.add_variable` is deprecated and will be removed in a future version. Please use `layer.add_weight` method instead.\n",
            "  warnings.warn('`layer.add_variable` is deprecated and '\n"
          ],
          "name": "stderr"
        },
        {
          "output_type": "stream",
          "text": [
            "INFO:tensorflow:Graph was finalized.\n",
            "INFO:tensorflow:Restoring parameters from /tmp/tmpqi5_9irk/model.ckpt-30\n",
            "INFO:tensorflow:Running local_init_op.\n",
            "INFO:tensorflow:Done running local_init_op.\n",
            "INFO:tensorflow:Calling model_fn.\n",
            "INFO:tensorflow:Done calling model_fn.\n"
          ],
          "name": "stdout"
        },
        {
          "output_type": "stream",
          "text": [
            "/usr/local/lib/python3.7/dist-packages/tensorflow/python/keras/engine/base_layer_v1.py:1727: UserWarning: `layer.add_variable` is deprecated and will be removed in a future version. Please use `layer.add_weight` method instead.\n",
            "  warnings.warn('`layer.add_variable` is deprecated and '\n"
          ],
          "name": "stderr"
        },
        {
          "output_type": "stream",
          "text": [
            "INFO:tensorflow:Graph was finalized.\n",
            "INFO:tensorflow:Restoring parameters from /tmp/tmpqi5_9irk/model.ckpt-30\n",
            "INFO:tensorflow:Running local_init_op.\n",
            "INFO:tensorflow:Done running local_init_op.\n"
          ],
          "name": "stdout"
        }
      ]
    },
    {
      "cell_type": "code",
      "metadata": {
        "id": "I0cwXkqV0vji"
      },
      "source": [
        "def calculate_binary_class_scores(y_true, y_pred):\n",
        "  accuracy = accuracy_score(y_true, y_pred.astype('int64'))\n",
        "  precision = precision_score(y_true, y_pred.astype('int64'))\n",
        "  recall = recall_score(y_true, y_pred.astype('int64'))\n",
        "  return accuracy, precision, recall\n"
      ],
      "execution_count": 24,
      "outputs": []
    },
    {
      "cell_type": "code",
      "metadata": {
        "colab": {
          "base_uri": "https://localhost:8080/"
        },
        "id": "1LcVZVAk0z9Y",
        "outputId": "b4dcc624-881c-447c-9307-6574dc8d4ad7"
      },
      "source": [
        "train_accuracy_score, train_precision_score, train_recall_score = calculate_binary_class_scores(training_labels, train_predictions_series)\n",
        "test_accuracy_score, test_precision_score, test_recall_score = calculate_binary_class_scores(test_labels, test_predictions_series)\n",
        "\n",
        "print('Training Data Accuracy (%) = ', round(train_accuracy_score*100,2))\n",
        "print('Training Data Precision (%) = ', round(train_precision_score*100,2))\n",
        "print('Training Data Recall (%) = ', round(train_recall_score*100,2))\n",
        "print('-'*50)\n",
        "print('Test Data Accuracy (%) = ', round(test_accuracy_score*100,2))\n",
        "print('Test Data Precision (%) = ', round(test_precision_score*100,2))\n",
        "print('Test Data Recall (%) = ', round(test_recall_score*100,2))\n"
      ],
      "execution_count": 25,
      "outputs": [
        {
          "output_type": "stream",
          "text": [
            "Training Data Accuracy (%) =  85.0\n",
            "Training Data Precision (%) =  100.0\n",
            "Training Data Recall (%) =  68.42\n",
            "--------------------------------------------------\n",
            "Test Data Accuracy (%) =  50.0\n",
            "Test Data Precision (%) =  100.0\n",
            "Test Data Recall (%) =  16.67\n"
          ],
          "name": "stdout"
        }
      ]
    }
  ]
}