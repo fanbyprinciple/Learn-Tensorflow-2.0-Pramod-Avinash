{
  "nbformat": 4,
  "nbformat_minor": 0,
  "metadata": {
    "colab": {
      "name": "ch1 tensorflow 2.0",
      "provenance": []
    },
    "kernelspec": {
      "name": "python3",
      "display_name": "Python 3"
    },
    "language_info": {
      "name": "python"
    }
  },
  "cells": [
    {
      "cell_type": "code",
      "metadata": {
        "id": "MqDFeiLSKzT9"
      },
      "source": [
        "import tensorflow as tf"
      ],
      "execution_count": 1,
      "outputs": []
    },
    {
      "cell_type": "code",
      "metadata": {
        "colab": {
          "base_uri": "https://localhost:8080/"
        },
        "id": "AOESmiJcK-YY",
        "outputId": "7f1db1a9-6c3c-4b0d-aaaa-265231f0abab"
      },
      "source": [
        "print(tf.__version__)"
      ],
      "execution_count": 2,
      "outputs": [
        {
          "output_type": "stream",
          "text": [
            "2.4.1\n"
          ],
          "name": "stdout"
        }
      ]
    },
    {
      "cell_type": "code",
      "metadata": {
        "colab": {
          "base_uri": "https://localhost:8080/"
        },
        "id": "Pl3DMi5sLBRQ",
        "outputId": "6c3be338-0c55-41a9-d397-b1047cdff012"
      },
      "source": [
        "c_1 = tf.constant(10)\n",
        "print(c_1)"
      ],
      "execution_count": 3,
      "outputs": [
        {
          "output_type": "stream",
          "text": [
            "tf.Tensor(10, shape=(), dtype=int32)\n"
          ],
          "name": "stdout"
        }
      ]
    },
    {
      "cell_type": "code",
      "metadata": {
        "colab": {
          "base_uri": "https://localhost:8080/"
        },
        "id": "uw1dXuNnLISh",
        "outputId": "5ef59a91-8879-415b-d1d9-a7ae3fb7a802"
      },
      "source": [
        "c_2 = tf.constant(5.0)\n",
        "c_3 = tf.constant(7.0)\n",
        "\n",
        "op_1 = tf.add(c_2, c_3)\n",
        "\n",
        "print(op_1)\n",
        "\n",
        "op_2 = tf.multiply(c_2, c_3)\n",
        "\n",
        "print(op_2)\n"
      ],
      "execution_count": 5,
      "outputs": [
        {
          "output_type": "stream",
          "text": [
            "tf.Tensor(12.0, shape=(), dtype=float32)\n",
            "tf.Tensor(35.0, shape=(), dtype=float32)\n"
          ],
          "name": "stdout"
        }
      ]
    },
    {
      "cell_type": "code",
      "metadata": {
        "colab": {
          "base_uri": "https://localhost:8080/"
        },
        "id": "OyHwhjX4LhdU",
        "outputId": "f75d4a1c-63bf-4e3a-8831-026d71b2b353"
      },
      "source": [
        "a = tf.constant([[10,10], [11.,1.]])\n",
        "x = tf.constant([[1.,0.], [0.,1.]])\n",
        "b = tf.Variable(12.)\n",
        "y = tf.matmul(a, x) + b\n",
        "print(y.numpy())"
      ],
      "execution_count": 6,
      "outputs": [
        {
          "output_type": "stream",
          "text": [
            "[[22. 22.]\n",
            " [23. 13.]]\n"
          ],
          "name": "stdout"
        }
      ]
    },
    {
      "cell_type": "markdown",
      "metadata": {
        "id": "eBsc_fyGL-r7"
      },
      "source": [
        "with tensorFlow 1.0 graph execution, the program state \n",
        "(such as variables) is stored in global collections, and their lifetime \n",
        "is managed by the tf.Session object. By contrast, during eager \n",
        "execution, the lifetime of state objects is determined by the lifetime of \n",
        "their corresponding python object"
      ]
    },
    {
      "cell_type": "code",
      "metadata": {
        "id": "6xuKEEyOL4Q6"
      },
      "source": [
        ""
      ],
      "execution_count": null,
      "outputs": []
    }
  ]
}